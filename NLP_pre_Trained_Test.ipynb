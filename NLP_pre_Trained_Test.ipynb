{
  "nbformat": 4,
  "nbformat_minor": 0,
  "metadata": {
    "colab": {
      "provenance": [],
      "include_colab_link": true
    },
    "kernelspec": {
      "name": "python3",
      "display_name": "Python 3"
    },
    "language_info": {
      "name": "python"
    }
  },
  "cells": [
    {
      "cell_type": "markdown",
      "metadata": {
        "id": "view-in-github",
        "colab_type": "text"
      },
      "source": [
        "<a href=\"https://colab.research.google.com/github/FariqJavier/Text-Classification-Model/blob/main/NLP_pre_Trained_Test.ipynb\" target=\"_parent\"><img src=\"https://colab.research.google.com/assets/colab-badge.svg\" alt=\"Open In Colab\"/></a>"
      ]
    },
    {
      "cell_type": "code",
      "source": [
        "!pip install datasets"
      ],
      "metadata": {
        "colab": {
          "base_uri": "https://localhost:8080/"
        },
        "id": "ojEgVLkLHgJo",
        "outputId": "607c1ee7-2f2a-4f40-dacb-b2dfba70e9a6"
      },
      "execution_count": null,
      "outputs": [
        {
          "output_type": "stream",
          "name": "stdout",
          "text": [
            "Collecting datasets\n",
            "  Downloading datasets-2.19.1-py3-none-any.whl (542 kB)\n",
            "\u001b[2K     \u001b[90m━━━━━━━━━━━━━━━━━━━━━━━━━━━━━━━━━━━━━━━━\u001b[0m \u001b[32m542.0/542.0 kB\u001b[0m \u001b[31m5.1 MB/s\u001b[0m eta \u001b[36m0:00:00\u001b[0m\n",
            "\u001b[?25hRequirement already satisfied: filelock in /usr/local/lib/python3.10/dist-packages (from datasets) (3.14.0)\n",
            "Requirement already satisfied: numpy>=1.17 in /usr/local/lib/python3.10/dist-packages (from datasets) (1.25.2)\n",
            "Requirement already satisfied: pyarrow>=12.0.0 in /usr/local/lib/python3.10/dist-packages (from datasets) (14.0.2)\n",
            "Requirement already satisfied: pyarrow-hotfix in /usr/local/lib/python3.10/dist-packages (from datasets) (0.6)\n",
            "Collecting dill<0.3.9,>=0.3.0 (from datasets)\n",
            "  Downloading dill-0.3.8-py3-none-any.whl (116 kB)\n",
            "\u001b[2K     \u001b[90m━━━━━━━━━━━━━━━━━━━━━━━━━━━━━━━━━━━━━━━━\u001b[0m \u001b[32m116.3/116.3 kB\u001b[0m \u001b[31m4.2 MB/s\u001b[0m eta \u001b[36m0:00:00\u001b[0m\n",
            "\u001b[?25hRequirement already satisfied: pandas in /usr/local/lib/python3.10/dist-packages (from datasets) (2.0.3)\n",
            "Requirement already satisfied: requests>=2.19.0 in /usr/local/lib/python3.10/dist-packages (from datasets) (2.31.0)\n",
            "Requirement already satisfied: tqdm>=4.62.1 in /usr/local/lib/python3.10/dist-packages (from datasets) (4.66.4)\n",
            "Collecting xxhash (from datasets)\n",
            "  Downloading xxhash-3.4.1-cp310-cp310-manylinux_2_17_x86_64.manylinux2014_x86_64.whl (194 kB)\n",
            "\u001b[2K     \u001b[90m━━━━━━━━━━━━━━━━━━━━━━━━━━━━━━━━━━━━━━━━\u001b[0m \u001b[32m194.1/194.1 kB\u001b[0m \u001b[31m6.0 MB/s\u001b[0m eta \u001b[36m0:00:00\u001b[0m\n",
            "\u001b[?25hCollecting multiprocess (from datasets)\n",
            "  Downloading multiprocess-0.70.16-py310-none-any.whl (134 kB)\n",
            "\u001b[2K     \u001b[90m━━━━━━━━━━━━━━━━━━━━━━━━━━━━━━━━━━━━━━━━\u001b[0m \u001b[32m134.8/134.8 kB\u001b[0m \u001b[31m4.3 MB/s\u001b[0m eta \u001b[36m0:00:00\u001b[0m\n",
            "\u001b[?25hRequirement already satisfied: fsspec[http]<=2024.3.1,>=2023.1.0 in /usr/local/lib/python3.10/dist-packages (from datasets) (2023.6.0)\n",
            "Requirement already satisfied: aiohttp in /usr/local/lib/python3.10/dist-packages (from datasets) (3.9.5)\n",
            "Requirement already satisfied: huggingface-hub>=0.21.2 in /usr/local/lib/python3.10/dist-packages (from datasets) (0.23.1)\n",
            "Requirement already satisfied: packaging in /usr/local/lib/python3.10/dist-packages (from datasets) (24.0)\n",
            "Requirement already satisfied: pyyaml>=5.1 in /usr/local/lib/python3.10/dist-packages (from datasets) (6.0.1)\n",
            "Requirement already satisfied: aiosignal>=1.1.2 in /usr/local/lib/python3.10/dist-packages (from aiohttp->datasets) (1.3.1)\n",
            "Requirement already satisfied: attrs>=17.3.0 in /usr/local/lib/python3.10/dist-packages (from aiohttp->datasets) (23.2.0)\n",
            "Requirement already satisfied: frozenlist>=1.1.1 in /usr/local/lib/python3.10/dist-packages (from aiohttp->datasets) (1.4.1)\n",
            "Requirement already satisfied: multidict<7.0,>=4.5 in /usr/local/lib/python3.10/dist-packages (from aiohttp->datasets) (6.0.5)\n",
            "Requirement already satisfied: yarl<2.0,>=1.0 in /usr/local/lib/python3.10/dist-packages (from aiohttp->datasets) (1.9.4)\n",
            "Requirement already satisfied: async-timeout<5.0,>=4.0 in /usr/local/lib/python3.10/dist-packages (from aiohttp->datasets) (4.0.3)\n",
            "Requirement already satisfied: typing-extensions>=3.7.4.3 in /usr/local/lib/python3.10/dist-packages (from huggingface-hub>=0.21.2->datasets) (4.11.0)\n",
            "Requirement already satisfied: charset-normalizer<4,>=2 in /usr/local/lib/python3.10/dist-packages (from requests>=2.19.0->datasets) (3.3.2)\n",
            "Requirement already satisfied: idna<4,>=2.5 in /usr/local/lib/python3.10/dist-packages (from requests>=2.19.0->datasets) (3.7)\n",
            "Requirement already satisfied: urllib3<3,>=1.21.1 in /usr/local/lib/python3.10/dist-packages (from requests>=2.19.0->datasets) (2.0.7)\n",
            "Requirement already satisfied: certifi>=2017.4.17 in /usr/local/lib/python3.10/dist-packages (from requests>=2.19.0->datasets) (2024.2.2)\n",
            "Requirement already satisfied: python-dateutil>=2.8.2 in /usr/local/lib/python3.10/dist-packages (from pandas->datasets) (2.8.2)\n",
            "Requirement already satisfied: pytz>=2020.1 in /usr/local/lib/python3.10/dist-packages (from pandas->datasets) (2023.4)\n",
            "Requirement already satisfied: tzdata>=2022.1 in /usr/local/lib/python3.10/dist-packages (from pandas->datasets) (2024.1)\n",
            "Requirement already satisfied: six>=1.5 in /usr/local/lib/python3.10/dist-packages (from python-dateutil>=2.8.2->pandas->datasets) (1.16.0)\n",
            "Installing collected packages: xxhash, dill, multiprocess, datasets\n",
            "Successfully installed datasets-2.19.1 dill-0.3.8 multiprocess-0.70.16 xxhash-3.4.1\n"
          ]
        }
      ]
    },
    {
      "cell_type": "code",
      "execution_count": null,
      "metadata": {
        "id": "3tuCMoHnocdH"
      },
      "outputs": [],
      "source": [
        "# Using IndoNLU Emot dataset for sentiment analysis task\n",
        "import tensorflow as tf\n",
        "import tensorflow_datasets as tfds\n",
        "import pandas as pd\n",
        "\n",
        "test_url = 'https://raw.githubusercontent.com/indoNLP/indonlu/master/dataset/emot_emotion-twitter/test_preprocess.csv'\n",
        "train_url = 'https://raw.githubusercontent.com/indoNLP/indonlu/master/dataset/emot_emotion-twitter/train_preprocess.csv'\n",
        "val_url = 'https://raw.githubusercontent.com/indoNLP/indonlu/master/dataset/emot_emotion-twitter/valid_preprocess.csv'"
      ]
    },
    {
      "cell_type": "code",
      "source": [
        "train_df = pd.read_csv(train_url)\n",
        "val_df = pd.read_csv(val_url)\n",
        "test_df = pd.read_csv(test_url)"
      ],
      "metadata": {
        "id": "YhGlXEh0rnIb"
      },
      "execution_count": null,
      "outputs": []
    },
    {
      "cell_type": "code",
      "source": [
        "train_df.head()"
      ],
      "metadata": {
        "colab": {
          "base_uri": "https://localhost:8080/",
          "height": 206
        },
        "id": "Kd-kmHHArp-5",
        "outputId": "f4352771-3659-477a-dc45-a1241cacc0a1"
      },
      "execution_count": null,
      "outputs": [
        {
          "output_type": "execute_result",
          "data": {
            "text/plain": [
              "   label                                              tweet\n",
              "0  happy  Ini adalah hal yang paling membahagiakan saat ...\n",
              "1  anger  [USERNAME] [USERNAME] Dari pertama [USERNAME] ...\n",
              "2   fear  yaudah kalo emang belum berani potong rambut p...\n",
              "3   fear  Jadi semalam, gw rekap, eh intinya yg gw usaha...\n",
              "4  anger  temen2 masa kecil yang turned out being asshol..."
            ],
            "text/html": [
              "\n",
              "  <div id=\"df-92a98b66-ac55-4924-8b0f-3cfd6060e747\" class=\"colab-df-container\">\n",
              "    <div>\n",
              "<style scoped>\n",
              "    .dataframe tbody tr th:only-of-type {\n",
              "        vertical-align: middle;\n",
              "    }\n",
              "\n",
              "    .dataframe tbody tr th {\n",
              "        vertical-align: top;\n",
              "    }\n",
              "\n",
              "    .dataframe thead th {\n",
              "        text-align: right;\n",
              "    }\n",
              "</style>\n",
              "<table border=\"1\" class=\"dataframe\">\n",
              "  <thead>\n",
              "    <tr style=\"text-align: right;\">\n",
              "      <th></th>\n",
              "      <th>label</th>\n",
              "      <th>tweet</th>\n",
              "    </tr>\n",
              "  </thead>\n",
              "  <tbody>\n",
              "    <tr>\n",
              "      <th>0</th>\n",
              "      <td>happy</td>\n",
              "      <td>Ini adalah hal yang paling membahagiakan saat ...</td>\n",
              "    </tr>\n",
              "    <tr>\n",
              "      <th>1</th>\n",
              "      <td>anger</td>\n",
              "      <td>[USERNAME] [USERNAME] Dari pertama [USERNAME] ...</td>\n",
              "    </tr>\n",
              "    <tr>\n",
              "      <th>2</th>\n",
              "      <td>fear</td>\n",
              "      <td>yaudah kalo emang belum berani potong rambut p...</td>\n",
              "    </tr>\n",
              "    <tr>\n",
              "      <th>3</th>\n",
              "      <td>fear</td>\n",
              "      <td>Jadi semalam, gw rekap, eh intinya yg gw usaha...</td>\n",
              "    </tr>\n",
              "    <tr>\n",
              "      <th>4</th>\n",
              "      <td>anger</td>\n",
              "      <td>temen2 masa kecil yang turned out being asshol...</td>\n",
              "    </tr>\n",
              "  </tbody>\n",
              "</table>\n",
              "</div>\n",
              "    <div class=\"colab-df-buttons\">\n",
              "\n",
              "  <div class=\"colab-df-container\">\n",
              "    <button class=\"colab-df-convert\" onclick=\"convertToInteractive('df-92a98b66-ac55-4924-8b0f-3cfd6060e747')\"\n",
              "            title=\"Convert this dataframe to an interactive table.\"\n",
              "            style=\"display:none;\">\n",
              "\n",
              "  <svg xmlns=\"http://www.w3.org/2000/svg\" height=\"24px\" viewBox=\"0 -960 960 960\">\n",
              "    <path d=\"M120-120v-720h720v720H120Zm60-500h600v-160H180v160Zm220 220h160v-160H400v160Zm0 220h160v-160H400v160ZM180-400h160v-160H180v160Zm440 0h160v-160H620v160ZM180-180h160v-160H180v160Zm440 0h160v-160H620v160Z\"/>\n",
              "  </svg>\n",
              "    </button>\n",
              "\n",
              "  <style>\n",
              "    .colab-df-container {\n",
              "      display:flex;\n",
              "      gap: 12px;\n",
              "    }\n",
              "\n",
              "    .colab-df-convert {\n",
              "      background-color: #E8F0FE;\n",
              "      border: none;\n",
              "      border-radius: 50%;\n",
              "      cursor: pointer;\n",
              "      display: none;\n",
              "      fill: #1967D2;\n",
              "      height: 32px;\n",
              "      padding: 0 0 0 0;\n",
              "      width: 32px;\n",
              "    }\n",
              "\n",
              "    .colab-df-convert:hover {\n",
              "      background-color: #E2EBFA;\n",
              "      box-shadow: 0px 1px 2px rgba(60, 64, 67, 0.3), 0px 1px 3px 1px rgba(60, 64, 67, 0.15);\n",
              "      fill: #174EA6;\n",
              "    }\n",
              "\n",
              "    .colab-df-buttons div {\n",
              "      margin-bottom: 4px;\n",
              "    }\n",
              "\n",
              "    [theme=dark] .colab-df-convert {\n",
              "      background-color: #3B4455;\n",
              "      fill: #D2E3FC;\n",
              "    }\n",
              "\n",
              "    [theme=dark] .colab-df-convert:hover {\n",
              "      background-color: #434B5C;\n",
              "      box-shadow: 0px 1px 3px 1px rgba(0, 0, 0, 0.15);\n",
              "      filter: drop-shadow(0px 1px 2px rgba(0, 0, 0, 0.3));\n",
              "      fill: #FFFFFF;\n",
              "    }\n",
              "  </style>\n",
              "\n",
              "    <script>\n",
              "      const buttonEl =\n",
              "        document.querySelector('#df-92a98b66-ac55-4924-8b0f-3cfd6060e747 button.colab-df-convert');\n",
              "      buttonEl.style.display =\n",
              "        google.colab.kernel.accessAllowed ? 'block' : 'none';\n",
              "\n",
              "      async function convertToInteractive(key) {\n",
              "        const element = document.querySelector('#df-92a98b66-ac55-4924-8b0f-3cfd6060e747');\n",
              "        const dataTable =\n",
              "          await google.colab.kernel.invokeFunction('convertToInteractive',\n",
              "                                                    [key], {});\n",
              "        if (!dataTable) return;\n",
              "\n",
              "        const docLinkHtml = 'Like what you see? Visit the ' +\n",
              "          '<a target=\"_blank\" href=https://colab.research.google.com/notebooks/data_table.ipynb>data table notebook</a>'\n",
              "          + ' to learn more about interactive tables.';\n",
              "        element.innerHTML = '';\n",
              "        dataTable['output_type'] = 'display_data';\n",
              "        await google.colab.output.renderOutput(dataTable, element);\n",
              "        const docLink = document.createElement('div');\n",
              "        docLink.innerHTML = docLinkHtml;\n",
              "        element.appendChild(docLink);\n",
              "      }\n",
              "    </script>\n",
              "  </div>\n",
              "\n",
              "\n",
              "<div id=\"df-9e3aef36-7933-4706-925f-89553e2c6e25\">\n",
              "  <button class=\"colab-df-quickchart\" onclick=\"quickchart('df-9e3aef36-7933-4706-925f-89553e2c6e25')\"\n",
              "            title=\"Suggest charts\"\n",
              "            style=\"display:none;\">\n",
              "\n",
              "<svg xmlns=\"http://www.w3.org/2000/svg\" height=\"24px\"viewBox=\"0 0 24 24\"\n",
              "     width=\"24px\">\n",
              "    <g>\n",
              "        <path d=\"M19 3H5c-1.1 0-2 .9-2 2v14c0 1.1.9 2 2 2h14c1.1 0 2-.9 2-2V5c0-1.1-.9-2-2-2zM9 17H7v-7h2v7zm4 0h-2V7h2v10zm4 0h-2v-4h2v4z\"/>\n",
              "    </g>\n",
              "</svg>\n",
              "  </button>\n",
              "\n",
              "<style>\n",
              "  .colab-df-quickchart {\n",
              "      --bg-color: #E8F0FE;\n",
              "      --fill-color: #1967D2;\n",
              "      --hover-bg-color: #E2EBFA;\n",
              "      --hover-fill-color: #174EA6;\n",
              "      --disabled-fill-color: #AAA;\n",
              "      --disabled-bg-color: #DDD;\n",
              "  }\n",
              "\n",
              "  [theme=dark] .colab-df-quickchart {\n",
              "      --bg-color: #3B4455;\n",
              "      --fill-color: #D2E3FC;\n",
              "      --hover-bg-color: #434B5C;\n",
              "      --hover-fill-color: #FFFFFF;\n",
              "      --disabled-bg-color: #3B4455;\n",
              "      --disabled-fill-color: #666;\n",
              "  }\n",
              "\n",
              "  .colab-df-quickchart {\n",
              "    background-color: var(--bg-color);\n",
              "    border: none;\n",
              "    border-radius: 50%;\n",
              "    cursor: pointer;\n",
              "    display: none;\n",
              "    fill: var(--fill-color);\n",
              "    height: 32px;\n",
              "    padding: 0;\n",
              "    width: 32px;\n",
              "  }\n",
              "\n",
              "  .colab-df-quickchart:hover {\n",
              "    background-color: var(--hover-bg-color);\n",
              "    box-shadow: 0 1px 2px rgba(60, 64, 67, 0.3), 0 1px 3px 1px rgba(60, 64, 67, 0.15);\n",
              "    fill: var(--button-hover-fill-color);\n",
              "  }\n",
              "\n",
              "  .colab-df-quickchart-complete:disabled,\n",
              "  .colab-df-quickchart-complete:disabled:hover {\n",
              "    background-color: var(--disabled-bg-color);\n",
              "    fill: var(--disabled-fill-color);\n",
              "    box-shadow: none;\n",
              "  }\n",
              "\n",
              "  .colab-df-spinner {\n",
              "    border: 2px solid var(--fill-color);\n",
              "    border-color: transparent;\n",
              "    border-bottom-color: var(--fill-color);\n",
              "    animation:\n",
              "      spin 1s steps(1) infinite;\n",
              "  }\n",
              "\n",
              "  @keyframes spin {\n",
              "    0% {\n",
              "      border-color: transparent;\n",
              "      border-bottom-color: var(--fill-color);\n",
              "      border-left-color: var(--fill-color);\n",
              "    }\n",
              "    20% {\n",
              "      border-color: transparent;\n",
              "      border-left-color: var(--fill-color);\n",
              "      border-top-color: var(--fill-color);\n",
              "    }\n",
              "    30% {\n",
              "      border-color: transparent;\n",
              "      border-left-color: var(--fill-color);\n",
              "      border-top-color: var(--fill-color);\n",
              "      border-right-color: var(--fill-color);\n",
              "    }\n",
              "    40% {\n",
              "      border-color: transparent;\n",
              "      border-right-color: var(--fill-color);\n",
              "      border-top-color: var(--fill-color);\n",
              "    }\n",
              "    60% {\n",
              "      border-color: transparent;\n",
              "      border-right-color: var(--fill-color);\n",
              "    }\n",
              "    80% {\n",
              "      border-color: transparent;\n",
              "      border-right-color: var(--fill-color);\n",
              "      border-bottom-color: var(--fill-color);\n",
              "    }\n",
              "    90% {\n",
              "      border-color: transparent;\n",
              "      border-bottom-color: var(--fill-color);\n",
              "    }\n",
              "  }\n",
              "</style>\n",
              "\n",
              "  <script>\n",
              "    async function quickchart(key) {\n",
              "      const quickchartButtonEl =\n",
              "        document.querySelector('#' + key + ' button');\n",
              "      quickchartButtonEl.disabled = true;  // To prevent multiple clicks.\n",
              "      quickchartButtonEl.classList.add('colab-df-spinner');\n",
              "      try {\n",
              "        const charts = await google.colab.kernel.invokeFunction(\n",
              "            'suggestCharts', [key], {});\n",
              "      } catch (error) {\n",
              "        console.error('Error during call to suggestCharts:', error);\n",
              "      }\n",
              "      quickchartButtonEl.classList.remove('colab-df-spinner');\n",
              "      quickchartButtonEl.classList.add('colab-df-quickchart-complete');\n",
              "    }\n",
              "    (() => {\n",
              "      let quickchartButtonEl =\n",
              "        document.querySelector('#df-9e3aef36-7933-4706-925f-89553e2c6e25 button');\n",
              "      quickchartButtonEl.style.display =\n",
              "        google.colab.kernel.accessAllowed ? 'block' : 'none';\n",
              "    })();\n",
              "  </script>\n",
              "</div>\n",
              "    </div>\n",
              "  </div>\n"
            ],
            "application/vnd.google.colaboratory.intrinsic+json": {
              "type": "dataframe",
              "variable_name": "train_df",
              "summary": "{\n  \"name\": \"train_df\",\n  \"rows\": 3521,\n  \"fields\": [\n    {\n      \"column\": \"label\",\n      \"properties\": {\n        \"dtype\": \"category\",\n        \"num_unique_values\": 5,\n        \"samples\": [\n          \"anger\",\n          \"love\",\n          \"fear\"\n        ],\n        \"semantic_type\": \"\",\n        \"description\": \"\"\n      }\n    },\n    {\n      \"column\": \"tweet\",\n      \"properties\": {\n        \"dtype\": \"string\",\n        \"num_unique_values\": 3514,\n        \"samples\": [\n          \"dari kemarin mao ganti ava susah sekali sudah\",\n          \"Jadi wanita jangan suka menghancurkan hubungan orang. Jgn bangga berhasil merusak kebahagian orang. Silahkan saja, tapi ga berkah bahagianya nanti hehe.\",\n          \"Ini dia si pembuat sembab berpasang-pasang mata setelah melihat pertunjukkan boneka\"\n        ],\n        \"semantic_type\": \"\",\n        \"description\": \"\"\n      }\n    }\n  ]\n}"
            }
          },
          "metadata": {},
          "execution_count": 4
        }
      ]
    },
    {
      "cell_type": "code",
      "source": [
        "val_df.head()"
      ],
      "metadata": {
        "colab": {
          "base_uri": "https://localhost:8080/",
          "height": 206
        },
        "id": "E_TGJIbqu6RA",
        "outputId": "e1b23a37-a51b-40c9-a2ef-ef968c205533"
      },
      "execution_count": null,
      "outputs": [
        {
          "output_type": "execute_result",
          "data": {
            "text/plain": [
              "   label                                              tweet\n",
              "0  anger  [USERNAME] jaringannya mati ya? Tidak bisa dib...\n",
              "1  anger  It's like a circle of stupidity. Atlit gak diu...\n",
              "2  anger  [USERNAME] [USERNAME] [USERNAME] [USERNAME] [U...\n",
              "3  happy  [USERNAME] Selamat Siang Sahabat Pos. Kiriman ...\n",
              "4  happy  Di hari ini, yap tepat di tanggal 23 juli dima..."
            ],
            "text/html": [
              "\n",
              "  <div id=\"df-b5f681d5-f0ee-4c54-a101-b7d791e6f732\" class=\"colab-df-container\">\n",
              "    <div>\n",
              "<style scoped>\n",
              "    .dataframe tbody tr th:only-of-type {\n",
              "        vertical-align: middle;\n",
              "    }\n",
              "\n",
              "    .dataframe tbody tr th {\n",
              "        vertical-align: top;\n",
              "    }\n",
              "\n",
              "    .dataframe thead th {\n",
              "        text-align: right;\n",
              "    }\n",
              "</style>\n",
              "<table border=\"1\" class=\"dataframe\">\n",
              "  <thead>\n",
              "    <tr style=\"text-align: right;\">\n",
              "      <th></th>\n",
              "      <th>label</th>\n",
              "      <th>tweet</th>\n",
              "    </tr>\n",
              "  </thead>\n",
              "  <tbody>\n",
              "    <tr>\n",
              "      <th>0</th>\n",
              "      <td>anger</td>\n",
              "      <td>[USERNAME] jaringannya mati ya? Tidak bisa dib...</td>\n",
              "    </tr>\n",
              "    <tr>\n",
              "      <th>1</th>\n",
              "      <td>anger</td>\n",
              "      <td>It's like a circle of stupidity. Atlit gak diu...</td>\n",
              "    </tr>\n",
              "    <tr>\n",
              "      <th>2</th>\n",
              "      <td>anger</td>\n",
              "      <td>[USERNAME] [USERNAME] [USERNAME] [USERNAME] [U...</td>\n",
              "    </tr>\n",
              "    <tr>\n",
              "      <th>3</th>\n",
              "      <td>happy</td>\n",
              "      <td>[USERNAME] Selamat Siang Sahabat Pos. Kiriman ...</td>\n",
              "    </tr>\n",
              "    <tr>\n",
              "      <th>4</th>\n",
              "      <td>happy</td>\n",
              "      <td>Di hari ini, yap tepat di tanggal 23 juli dima...</td>\n",
              "    </tr>\n",
              "  </tbody>\n",
              "</table>\n",
              "</div>\n",
              "    <div class=\"colab-df-buttons\">\n",
              "\n",
              "  <div class=\"colab-df-container\">\n",
              "    <button class=\"colab-df-convert\" onclick=\"convertToInteractive('df-b5f681d5-f0ee-4c54-a101-b7d791e6f732')\"\n",
              "            title=\"Convert this dataframe to an interactive table.\"\n",
              "            style=\"display:none;\">\n",
              "\n",
              "  <svg xmlns=\"http://www.w3.org/2000/svg\" height=\"24px\" viewBox=\"0 -960 960 960\">\n",
              "    <path d=\"M120-120v-720h720v720H120Zm60-500h600v-160H180v160Zm220 220h160v-160H400v160Zm0 220h160v-160H400v160ZM180-400h160v-160H180v160Zm440 0h160v-160H620v160ZM180-180h160v-160H180v160Zm440 0h160v-160H620v160Z\"/>\n",
              "  </svg>\n",
              "    </button>\n",
              "\n",
              "  <style>\n",
              "    .colab-df-container {\n",
              "      display:flex;\n",
              "      gap: 12px;\n",
              "    }\n",
              "\n",
              "    .colab-df-convert {\n",
              "      background-color: #E8F0FE;\n",
              "      border: none;\n",
              "      border-radius: 50%;\n",
              "      cursor: pointer;\n",
              "      display: none;\n",
              "      fill: #1967D2;\n",
              "      height: 32px;\n",
              "      padding: 0 0 0 0;\n",
              "      width: 32px;\n",
              "    }\n",
              "\n",
              "    .colab-df-convert:hover {\n",
              "      background-color: #E2EBFA;\n",
              "      box-shadow: 0px 1px 2px rgba(60, 64, 67, 0.3), 0px 1px 3px 1px rgba(60, 64, 67, 0.15);\n",
              "      fill: #174EA6;\n",
              "    }\n",
              "\n",
              "    .colab-df-buttons div {\n",
              "      margin-bottom: 4px;\n",
              "    }\n",
              "\n",
              "    [theme=dark] .colab-df-convert {\n",
              "      background-color: #3B4455;\n",
              "      fill: #D2E3FC;\n",
              "    }\n",
              "\n",
              "    [theme=dark] .colab-df-convert:hover {\n",
              "      background-color: #434B5C;\n",
              "      box-shadow: 0px 1px 3px 1px rgba(0, 0, 0, 0.15);\n",
              "      filter: drop-shadow(0px 1px 2px rgba(0, 0, 0, 0.3));\n",
              "      fill: #FFFFFF;\n",
              "    }\n",
              "  </style>\n",
              "\n",
              "    <script>\n",
              "      const buttonEl =\n",
              "        document.querySelector('#df-b5f681d5-f0ee-4c54-a101-b7d791e6f732 button.colab-df-convert');\n",
              "      buttonEl.style.display =\n",
              "        google.colab.kernel.accessAllowed ? 'block' : 'none';\n",
              "\n",
              "      async function convertToInteractive(key) {\n",
              "        const element = document.querySelector('#df-b5f681d5-f0ee-4c54-a101-b7d791e6f732');\n",
              "        const dataTable =\n",
              "          await google.colab.kernel.invokeFunction('convertToInteractive',\n",
              "                                                    [key], {});\n",
              "        if (!dataTable) return;\n",
              "\n",
              "        const docLinkHtml = 'Like what you see? Visit the ' +\n",
              "          '<a target=\"_blank\" href=https://colab.research.google.com/notebooks/data_table.ipynb>data table notebook</a>'\n",
              "          + ' to learn more about interactive tables.';\n",
              "        element.innerHTML = '';\n",
              "        dataTable['output_type'] = 'display_data';\n",
              "        await google.colab.output.renderOutput(dataTable, element);\n",
              "        const docLink = document.createElement('div');\n",
              "        docLink.innerHTML = docLinkHtml;\n",
              "        element.appendChild(docLink);\n",
              "      }\n",
              "    </script>\n",
              "  </div>\n",
              "\n",
              "\n",
              "<div id=\"df-60d76de3-78a5-41cd-a9fb-b07f6600c131\">\n",
              "  <button class=\"colab-df-quickchart\" onclick=\"quickchart('df-60d76de3-78a5-41cd-a9fb-b07f6600c131')\"\n",
              "            title=\"Suggest charts\"\n",
              "            style=\"display:none;\">\n",
              "\n",
              "<svg xmlns=\"http://www.w3.org/2000/svg\" height=\"24px\"viewBox=\"0 0 24 24\"\n",
              "     width=\"24px\">\n",
              "    <g>\n",
              "        <path d=\"M19 3H5c-1.1 0-2 .9-2 2v14c0 1.1.9 2 2 2h14c1.1 0 2-.9 2-2V5c0-1.1-.9-2-2-2zM9 17H7v-7h2v7zm4 0h-2V7h2v10zm4 0h-2v-4h2v4z\"/>\n",
              "    </g>\n",
              "</svg>\n",
              "  </button>\n",
              "\n",
              "<style>\n",
              "  .colab-df-quickchart {\n",
              "      --bg-color: #E8F0FE;\n",
              "      --fill-color: #1967D2;\n",
              "      --hover-bg-color: #E2EBFA;\n",
              "      --hover-fill-color: #174EA6;\n",
              "      --disabled-fill-color: #AAA;\n",
              "      --disabled-bg-color: #DDD;\n",
              "  }\n",
              "\n",
              "  [theme=dark] .colab-df-quickchart {\n",
              "      --bg-color: #3B4455;\n",
              "      --fill-color: #D2E3FC;\n",
              "      --hover-bg-color: #434B5C;\n",
              "      --hover-fill-color: #FFFFFF;\n",
              "      --disabled-bg-color: #3B4455;\n",
              "      --disabled-fill-color: #666;\n",
              "  }\n",
              "\n",
              "  .colab-df-quickchart {\n",
              "    background-color: var(--bg-color);\n",
              "    border: none;\n",
              "    border-radius: 50%;\n",
              "    cursor: pointer;\n",
              "    display: none;\n",
              "    fill: var(--fill-color);\n",
              "    height: 32px;\n",
              "    padding: 0;\n",
              "    width: 32px;\n",
              "  }\n",
              "\n",
              "  .colab-df-quickchart:hover {\n",
              "    background-color: var(--hover-bg-color);\n",
              "    box-shadow: 0 1px 2px rgba(60, 64, 67, 0.3), 0 1px 3px 1px rgba(60, 64, 67, 0.15);\n",
              "    fill: var(--button-hover-fill-color);\n",
              "  }\n",
              "\n",
              "  .colab-df-quickchart-complete:disabled,\n",
              "  .colab-df-quickchart-complete:disabled:hover {\n",
              "    background-color: var(--disabled-bg-color);\n",
              "    fill: var(--disabled-fill-color);\n",
              "    box-shadow: none;\n",
              "  }\n",
              "\n",
              "  .colab-df-spinner {\n",
              "    border: 2px solid var(--fill-color);\n",
              "    border-color: transparent;\n",
              "    border-bottom-color: var(--fill-color);\n",
              "    animation:\n",
              "      spin 1s steps(1) infinite;\n",
              "  }\n",
              "\n",
              "  @keyframes spin {\n",
              "    0% {\n",
              "      border-color: transparent;\n",
              "      border-bottom-color: var(--fill-color);\n",
              "      border-left-color: var(--fill-color);\n",
              "    }\n",
              "    20% {\n",
              "      border-color: transparent;\n",
              "      border-left-color: var(--fill-color);\n",
              "      border-top-color: var(--fill-color);\n",
              "    }\n",
              "    30% {\n",
              "      border-color: transparent;\n",
              "      border-left-color: var(--fill-color);\n",
              "      border-top-color: var(--fill-color);\n",
              "      border-right-color: var(--fill-color);\n",
              "    }\n",
              "    40% {\n",
              "      border-color: transparent;\n",
              "      border-right-color: var(--fill-color);\n",
              "      border-top-color: var(--fill-color);\n",
              "    }\n",
              "    60% {\n",
              "      border-color: transparent;\n",
              "      border-right-color: var(--fill-color);\n",
              "    }\n",
              "    80% {\n",
              "      border-color: transparent;\n",
              "      border-right-color: var(--fill-color);\n",
              "      border-bottom-color: var(--fill-color);\n",
              "    }\n",
              "    90% {\n",
              "      border-color: transparent;\n",
              "      border-bottom-color: var(--fill-color);\n",
              "    }\n",
              "  }\n",
              "</style>\n",
              "\n",
              "  <script>\n",
              "    async function quickchart(key) {\n",
              "      const quickchartButtonEl =\n",
              "        document.querySelector('#' + key + ' button');\n",
              "      quickchartButtonEl.disabled = true;  // To prevent multiple clicks.\n",
              "      quickchartButtonEl.classList.add('colab-df-spinner');\n",
              "      try {\n",
              "        const charts = await google.colab.kernel.invokeFunction(\n",
              "            'suggestCharts', [key], {});\n",
              "      } catch (error) {\n",
              "        console.error('Error during call to suggestCharts:', error);\n",
              "      }\n",
              "      quickchartButtonEl.classList.remove('colab-df-spinner');\n",
              "      quickchartButtonEl.classList.add('colab-df-quickchart-complete');\n",
              "    }\n",
              "    (() => {\n",
              "      let quickchartButtonEl =\n",
              "        document.querySelector('#df-60d76de3-78a5-41cd-a9fb-b07f6600c131 button');\n",
              "      quickchartButtonEl.style.display =\n",
              "        google.colab.kernel.accessAllowed ? 'block' : 'none';\n",
              "    })();\n",
              "  </script>\n",
              "</div>\n",
              "    </div>\n",
              "  </div>\n"
            ],
            "application/vnd.google.colaboratory.intrinsic+json": {
              "type": "dataframe",
              "variable_name": "val_df",
              "summary": "{\n  \"name\": \"val_df\",\n  \"rows\": 440,\n  \"fields\": [\n    {\n      \"column\": \"label\",\n      \"properties\": {\n        \"dtype\": \"category\",\n        \"num_unique_values\": 5,\n        \"samples\": [\n          \"happy\",\n          \"sadness\",\n          \"fear\"\n        ],\n        \"semantic_type\": \"\",\n        \"description\": \"\"\n      }\n    },\n    {\n      \"column\": \"tweet\",\n      \"properties\": {\n        \"dtype\": \"string\",\n        \"num_unique_values\": 439,\n        \"samples\": [\n          \"Walau Ramadhan menyebarkan energi kebaikan harus lebih semangat dibandingkan sebelumnya, terima kasih untuk PLN BATAM. [URL]\",\n          \"[USERNAME] belum lama ini, dia bilang kalo dia sedih ngeliat temen-temennya ngalamin masa sulit. Dan bahkan mereka pun ga mau punyagrup chatting karna khawatir kalo ada yg ga bales malah jadi nyakitin perasaan. Se soft itu lho mereka :')\",\n          \"Masa keemasan bermain Badminton, ketika saya dan rekan saya Dwi Sulistyono menyabet Juara di kelas double junior piala bupati 2008 dan 2010. Trus semi final single junior 2007, sampe sekarang masing terngiang.\"\n        ],\n        \"semantic_type\": \"\",\n        \"description\": \"\"\n      }\n    }\n  ]\n}"
            }
          },
          "metadata": {},
          "execution_count": 5
        }
      ]
    },
    {
      "cell_type": "code",
      "source": [
        "test_df.head()"
      ],
      "metadata": {
        "colab": {
          "base_uri": "https://localhost:8080/",
          "height": 206
        },
        "id": "rqguYQfwdmJD",
        "outputId": "cabe07cc-9719-4226-eb76-3a9e85f5c4d4"
      },
      "execution_count": null,
      "outputs": [
        {
          "output_type": "execute_result",
          "data": {
            "text/plain": [
              "   label                                              tweet\n",
              "0   love  Pixy ini kok lama-lama gemesim yaaaa. Setelah ...\n",
              "1   fear  Penyakit hepatitis B 100x lebih infeksius dari...\n",
              "2   fear  [USERNAME] [USERNAME] [USERNAME] Gw lebih khaw...\n",
              "3  anger  Kemerdekaan adalah hak segala bangsa ...( Kec ...\n",
              "4  happy  Selamat pak [USERNAME] resmi jadi bapak, seked..."
            ],
            "text/html": [
              "\n",
              "  <div id=\"df-b43f3a2e-59bd-40a0-b301-5c3443b05760\" class=\"colab-df-container\">\n",
              "    <div>\n",
              "<style scoped>\n",
              "    .dataframe tbody tr th:only-of-type {\n",
              "        vertical-align: middle;\n",
              "    }\n",
              "\n",
              "    .dataframe tbody tr th {\n",
              "        vertical-align: top;\n",
              "    }\n",
              "\n",
              "    .dataframe thead th {\n",
              "        text-align: right;\n",
              "    }\n",
              "</style>\n",
              "<table border=\"1\" class=\"dataframe\">\n",
              "  <thead>\n",
              "    <tr style=\"text-align: right;\">\n",
              "      <th></th>\n",
              "      <th>label</th>\n",
              "      <th>tweet</th>\n",
              "    </tr>\n",
              "  </thead>\n",
              "  <tbody>\n",
              "    <tr>\n",
              "      <th>0</th>\n",
              "      <td>love</td>\n",
              "      <td>Pixy ini kok lama-lama gemesim yaaaa. Setelah ...</td>\n",
              "    </tr>\n",
              "    <tr>\n",
              "      <th>1</th>\n",
              "      <td>fear</td>\n",
              "      <td>Penyakit hepatitis B 100x lebih infeksius dari...</td>\n",
              "    </tr>\n",
              "    <tr>\n",
              "      <th>2</th>\n",
              "      <td>fear</td>\n",
              "      <td>[USERNAME] [USERNAME] [USERNAME] Gw lebih khaw...</td>\n",
              "    </tr>\n",
              "    <tr>\n",
              "      <th>3</th>\n",
              "      <td>anger</td>\n",
              "      <td>Kemerdekaan adalah hak segala bangsa ...( Kec ...</td>\n",
              "    </tr>\n",
              "    <tr>\n",
              "      <th>4</th>\n",
              "      <td>happy</td>\n",
              "      <td>Selamat pak [USERNAME] resmi jadi bapak, seked...</td>\n",
              "    </tr>\n",
              "  </tbody>\n",
              "</table>\n",
              "</div>\n",
              "    <div class=\"colab-df-buttons\">\n",
              "\n",
              "  <div class=\"colab-df-container\">\n",
              "    <button class=\"colab-df-convert\" onclick=\"convertToInteractive('df-b43f3a2e-59bd-40a0-b301-5c3443b05760')\"\n",
              "            title=\"Convert this dataframe to an interactive table.\"\n",
              "            style=\"display:none;\">\n",
              "\n",
              "  <svg xmlns=\"http://www.w3.org/2000/svg\" height=\"24px\" viewBox=\"0 -960 960 960\">\n",
              "    <path d=\"M120-120v-720h720v720H120Zm60-500h600v-160H180v160Zm220 220h160v-160H400v160Zm0 220h160v-160H400v160ZM180-400h160v-160H180v160Zm440 0h160v-160H620v160ZM180-180h160v-160H180v160Zm440 0h160v-160H620v160Z\"/>\n",
              "  </svg>\n",
              "    </button>\n",
              "\n",
              "  <style>\n",
              "    .colab-df-container {\n",
              "      display:flex;\n",
              "      gap: 12px;\n",
              "    }\n",
              "\n",
              "    .colab-df-convert {\n",
              "      background-color: #E8F0FE;\n",
              "      border: none;\n",
              "      border-radius: 50%;\n",
              "      cursor: pointer;\n",
              "      display: none;\n",
              "      fill: #1967D2;\n",
              "      height: 32px;\n",
              "      padding: 0 0 0 0;\n",
              "      width: 32px;\n",
              "    }\n",
              "\n",
              "    .colab-df-convert:hover {\n",
              "      background-color: #E2EBFA;\n",
              "      box-shadow: 0px 1px 2px rgba(60, 64, 67, 0.3), 0px 1px 3px 1px rgba(60, 64, 67, 0.15);\n",
              "      fill: #174EA6;\n",
              "    }\n",
              "\n",
              "    .colab-df-buttons div {\n",
              "      margin-bottom: 4px;\n",
              "    }\n",
              "\n",
              "    [theme=dark] .colab-df-convert {\n",
              "      background-color: #3B4455;\n",
              "      fill: #D2E3FC;\n",
              "    }\n",
              "\n",
              "    [theme=dark] .colab-df-convert:hover {\n",
              "      background-color: #434B5C;\n",
              "      box-shadow: 0px 1px 3px 1px rgba(0, 0, 0, 0.15);\n",
              "      filter: drop-shadow(0px 1px 2px rgba(0, 0, 0, 0.3));\n",
              "      fill: #FFFFFF;\n",
              "    }\n",
              "  </style>\n",
              "\n",
              "    <script>\n",
              "      const buttonEl =\n",
              "        document.querySelector('#df-b43f3a2e-59bd-40a0-b301-5c3443b05760 button.colab-df-convert');\n",
              "      buttonEl.style.display =\n",
              "        google.colab.kernel.accessAllowed ? 'block' : 'none';\n",
              "\n",
              "      async function convertToInteractive(key) {\n",
              "        const element = document.querySelector('#df-b43f3a2e-59bd-40a0-b301-5c3443b05760');\n",
              "        const dataTable =\n",
              "          await google.colab.kernel.invokeFunction('convertToInteractive',\n",
              "                                                    [key], {});\n",
              "        if (!dataTable) return;\n",
              "\n",
              "        const docLinkHtml = 'Like what you see? Visit the ' +\n",
              "          '<a target=\"_blank\" href=https://colab.research.google.com/notebooks/data_table.ipynb>data table notebook</a>'\n",
              "          + ' to learn more about interactive tables.';\n",
              "        element.innerHTML = '';\n",
              "        dataTable['output_type'] = 'display_data';\n",
              "        await google.colab.output.renderOutput(dataTable, element);\n",
              "        const docLink = document.createElement('div');\n",
              "        docLink.innerHTML = docLinkHtml;\n",
              "        element.appendChild(docLink);\n",
              "      }\n",
              "    </script>\n",
              "  </div>\n",
              "\n",
              "\n",
              "<div id=\"df-ebf130ca-2ffc-458a-bb80-57050c3c8e99\">\n",
              "  <button class=\"colab-df-quickchart\" onclick=\"quickchart('df-ebf130ca-2ffc-458a-bb80-57050c3c8e99')\"\n",
              "            title=\"Suggest charts\"\n",
              "            style=\"display:none;\">\n",
              "\n",
              "<svg xmlns=\"http://www.w3.org/2000/svg\" height=\"24px\"viewBox=\"0 0 24 24\"\n",
              "     width=\"24px\">\n",
              "    <g>\n",
              "        <path d=\"M19 3H5c-1.1 0-2 .9-2 2v14c0 1.1.9 2 2 2h14c1.1 0 2-.9 2-2V5c0-1.1-.9-2-2-2zM9 17H7v-7h2v7zm4 0h-2V7h2v10zm4 0h-2v-4h2v4z\"/>\n",
              "    </g>\n",
              "</svg>\n",
              "  </button>\n",
              "\n",
              "<style>\n",
              "  .colab-df-quickchart {\n",
              "      --bg-color: #E8F0FE;\n",
              "      --fill-color: #1967D2;\n",
              "      --hover-bg-color: #E2EBFA;\n",
              "      --hover-fill-color: #174EA6;\n",
              "      --disabled-fill-color: #AAA;\n",
              "      --disabled-bg-color: #DDD;\n",
              "  }\n",
              "\n",
              "  [theme=dark] .colab-df-quickchart {\n",
              "      --bg-color: #3B4455;\n",
              "      --fill-color: #D2E3FC;\n",
              "      --hover-bg-color: #434B5C;\n",
              "      --hover-fill-color: #FFFFFF;\n",
              "      --disabled-bg-color: #3B4455;\n",
              "      --disabled-fill-color: #666;\n",
              "  }\n",
              "\n",
              "  .colab-df-quickchart {\n",
              "    background-color: var(--bg-color);\n",
              "    border: none;\n",
              "    border-radius: 50%;\n",
              "    cursor: pointer;\n",
              "    display: none;\n",
              "    fill: var(--fill-color);\n",
              "    height: 32px;\n",
              "    padding: 0;\n",
              "    width: 32px;\n",
              "  }\n",
              "\n",
              "  .colab-df-quickchart:hover {\n",
              "    background-color: var(--hover-bg-color);\n",
              "    box-shadow: 0 1px 2px rgba(60, 64, 67, 0.3), 0 1px 3px 1px rgba(60, 64, 67, 0.15);\n",
              "    fill: var(--button-hover-fill-color);\n",
              "  }\n",
              "\n",
              "  .colab-df-quickchart-complete:disabled,\n",
              "  .colab-df-quickchart-complete:disabled:hover {\n",
              "    background-color: var(--disabled-bg-color);\n",
              "    fill: var(--disabled-fill-color);\n",
              "    box-shadow: none;\n",
              "  }\n",
              "\n",
              "  .colab-df-spinner {\n",
              "    border: 2px solid var(--fill-color);\n",
              "    border-color: transparent;\n",
              "    border-bottom-color: var(--fill-color);\n",
              "    animation:\n",
              "      spin 1s steps(1) infinite;\n",
              "  }\n",
              "\n",
              "  @keyframes spin {\n",
              "    0% {\n",
              "      border-color: transparent;\n",
              "      border-bottom-color: var(--fill-color);\n",
              "      border-left-color: var(--fill-color);\n",
              "    }\n",
              "    20% {\n",
              "      border-color: transparent;\n",
              "      border-left-color: var(--fill-color);\n",
              "      border-top-color: var(--fill-color);\n",
              "    }\n",
              "    30% {\n",
              "      border-color: transparent;\n",
              "      border-left-color: var(--fill-color);\n",
              "      border-top-color: var(--fill-color);\n",
              "      border-right-color: var(--fill-color);\n",
              "    }\n",
              "    40% {\n",
              "      border-color: transparent;\n",
              "      border-right-color: var(--fill-color);\n",
              "      border-top-color: var(--fill-color);\n",
              "    }\n",
              "    60% {\n",
              "      border-color: transparent;\n",
              "      border-right-color: var(--fill-color);\n",
              "    }\n",
              "    80% {\n",
              "      border-color: transparent;\n",
              "      border-right-color: var(--fill-color);\n",
              "      border-bottom-color: var(--fill-color);\n",
              "    }\n",
              "    90% {\n",
              "      border-color: transparent;\n",
              "      border-bottom-color: var(--fill-color);\n",
              "    }\n",
              "  }\n",
              "</style>\n",
              "\n",
              "  <script>\n",
              "    async function quickchart(key) {\n",
              "      const quickchartButtonEl =\n",
              "        document.querySelector('#' + key + ' button');\n",
              "      quickchartButtonEl.disabled = true;  // To prevent multiple clicks.\n",
              "      quickchartButtonEl.classList.add('colab-df-spinner');\n",
              "      try {\n",
              "        const charts = await google.colab.kernel.invokeFunction(\n",
              "            'suggestCharts', [key], {});\n",
              "      } catch (error) {\n",
              "        console.error('Error during call to suggestCharts:', error);\n",
              "      }\n",
              "      quickchartButtonEl.classList.remove('colab-df-spinner');\n",
              "      quickchartButtonEl.classList.add('colab-df-quickchart-complete');\n",
              "    }\n",
              "    (() => {\n",
              "      let quickchartButtonEl =\n",
              "        document.querySelector('#df-ebf130ca-2ffc-458a-bb80-57050c3c8e99 button');\n",
              "      quickchartButtonEl.style.display =\n",
              "        google.colab.kernel.accessAllowed ? 'block' : 'none';\n",
              "    })();\n",
              "  </script>\n",
              "</div>\n",
              "    </div>\n",
              "  </div>\n"
            ],
            "application/vnd.google.colaboratory.intrinsic+json": {
              "type": "dataframe",
              "variable_name": "test_df",
              "summary": "{\n  \"name\": \"test_df\",\n  \"rows\": 440,\n  \"fields\": [\n    {\n      \"column\": \"label\",\n      \"properties\": {\n        \"dtype\": \"category\",\n        \"num_unique_values\": 5,\n        \"samples\": [\n          \"fear\",\n          \"sadness\",\n          \"anger\"\n        ],\n        \"semantic_type\": \"\",\n        \"description\": \"\"\n      }\n    },\n    {\n      \"column\": \"tweet\",\n      \"properties\": {\n        \"dtype\": \"string\",\n        \"num_unique_values\": 440,\n        \"samples\": [\n          \"hore hihi moment sekali ye capai sih tapi menyenangkan\",\n          \"Dear [USERNAME] tolong dengan sangat, para driver di edukasi kembali. Kalo emang nomernya ganti, itu di info di aplikasi. Saya sampai harus cancel 2x karena driver tidak bisa dihub sama sekali (chat gak di bales & telp gak aktif). Terima kasih.\",\n          \"keinget dulu smnggu sblum kompre tiap malam nangis trus seminggu sblum ukmmpd nangis cemas takut, gak tau apa2, minder sama kawan2skrng doa sudah terjawab, terimakasih yesusku\"\n        ],\n        \"semantic_type\": \"\",\n        \"description\": \"\"\n      }\n    }\n  ]\n}"
            }
          },
          "metadata": {},
          "execution_count": 6
        }
      ]
    },
    {
      "cell_type": "code",
      "source": [
        "print(len(train_df), 'train examples')\n",
        "print(len(val_df), 'validation examples')\n",
        "print(len(test_df), 'test examples')"
      ],
      "metadata": {
        "id": "M7DUBRLadnkv",
        "colab": {
          "base_uri": "https://localhost:8080/"
        },
        "outputId": "38101325-95f0-4fce-f62c-fe0e854d4848"
      },
      "execution_count": null,
      "outputs": [
        {
          "output_type": "stream",
          "name": "stdout",
          "text": [
            "3521 train examples\n",
            "440 validation examples\n",
            "440 test examples\n"
          ]
        }
      ]
    },
    {
      "cell_type": "code",
      "source": [
        "train_df['tweet']"
      ],
      "metadata": {
        "colab": {
          "base_uri": "https://localhost:8080/"
        },
        "id": "6eI-yNqK-RIE",
        "outputId": "f0d48dc8-bc96-429c-e3a9-e5da50664432"
      },
      "execution_count": null,
      "outputs": [
        {
          "output_type": "execute_result",
          "data": {
            "text/plain": [
              "0       Ini adalah hal yang paling membahagiakan saat ...\n",
              "1       [USERNAME] [USERNAME] Dari pertama [USERNAME] ...\n",
              "2       yaudah kalo emang belum berani potong rambut p...\n",
              "3       Jadi semalam, gw rekap, eh intinya yg gw usaha...\n",
              "4       temen2 masa kecil yang turned out being asshol...\n",
              "                              ...                        \n",
              "3516    [USERNAME] [USERNAME] Bcs doi w anak pelayaran...\n",
              "3517    Sekali , dua kali , tiga kali , lama2 bosan ju...\n",
              "3518    [USERNAME] [USERNAME] [USERNAME] [USERNAME] [U...\n",
              "3519    Aku takut tulisan ini terbaca di saat kamu ngg...\n",
              "3520     alhamdulilah tmksh tiara u to cantik dart ava oy\n",
              "Name: tweet, Length: 3521, dtype: object"
            ]
          },
          "metadata": {},
          "execution_count": 8
        }
      ]
    },
    {
      "cell_type": "code",
      "source": [
        "train_df['label']"
      ],
      "metadata": {
        "colab": {
          "base_uri": "https://localhost:8080/"
        },
        "id": "_RVNwN-k-Wq-",
        "outputId": "4018fe34-fa59-4f9c-9e9a-1adbd1c6321a"
      },
      "execution_count": null,
      "outputs": [
        {
          "output_type": "execute_result",
          "data": {
            "text/plain": [
              "0       happy\n",
              "1       anger\n",
              "2        fear\n",
              "3        fear\n",
              "4       anger\n",
              "        ...  \n",
              "3516     fear\n",
              "3517    anger\n",
              "3518    anger\n",
              "3519     fear\n",
              "3520    happy\n",
              "Name: label, Length: 3521, dtype: object"
            ]
          },
          "metadata": {},
          "execution_count": 9
        }
      ]
    },
    {
      "cell_type": "code",
      "source": [
        "!pip install kaggle"
      ],
      "metadata": {
        "colab": {
          "base_uri": "https://localhost:8080/"
        },
        "id": "TtwHf3Ppd8Cp",
        "outputId": "0dee4099-eae2-4cac-bb47-8511e89bc244"
      },
      "execution_count": null,
      "outputs": [
        {
          "output_type": "stream",
          "name": "stdout",
          "text": [
            "Requirement already satisfied: kaggle in /usr/local/lib/python3.10/dist-packages (1.6.14)\n",
            "Requirement already satisfied: six>=1.10 in /usr/local/lib/python3.10/dist-packages (from kaggle) (1.16.0)\n",
            "Requirement already satisfied: certifi>=2023.7.22 in /usr/local/lib/python3.10/dist-packages (from kaggle) (2024.2.2)\n",
            "Requirement already satisfied: python-dateutil in /usr/local/lib/python3.10/dist-packages (from kaggle) (2.8.2)\n",
            "Requirement already satisfied: requests in /usr/local/lib/python3.10/dist-packages (from kaggle) (2.31.0)\n",
            "Requirement already satisfied: tqdm in /usr/local/lib/python3.10/dist-packages (from kaggle) (4.66.4)\n",
            "Requirement already satisfied: python-slugify in /usr/local/lib/python3.10/dist-packages (from kaggle) (8.0.4)\n",
            "Requirement already satisfied: urllib3 in /usr/local/lib/python3.10/dist-packages (from kaggle) (2.0.7)\n",
            "Requirement already satisfied: bleach in /usr/local/lib/python3.10/dist-packages (from kaggle) (6.1.0)\n",
            "Requirement already satisfied: webencodings in /usr/local/lib/python3.10/dist-packages (from bleach->kaggle) (0.5.1)\n",
            "Requirement already satisfied: text-unidecode>=1.3 in /usr/local/lib/python3.10/dist-packages (from python-slugify->kaggle) (1.3)\n",
            "Requirement already satisfied: charset-normalizer<4,>=2 in /usr/local/lib/python3.10/dist-packages (from requests->kaggle) (3.3.2)\n",
            "Requirement already satisfied: idna<4,>=2.5 in /usr/local/lib/python3.10/dist-packages (from requests->kaggle) (3.7)\n"
          ]
        }
      ]
    },
    {
      "cell_type": "code",
      "source": [
        "!mkdir ~/.kaggle\n",
        "!cp kaggle.json ~/.kaggle/\n",
        "!chmod 600 ~/.kaggle/kaggle.json"
      ],
      "metadata": {
        "colab": {
          "base_uri": "https://localhost:8080/"
        },
        "id": "sluPuW9XeJYN",
        "outputId": "30e837b8-e27b-4c97-fc1d-6da8b532c78d"
      },
      "execution_count": null,
      "outputs": [
        {
          "output_type": "stream",
          "name": "stdout",
          "text": [
            "cp: cannot stat 'kaggle.json': No such file or directory\n",
            "chmod: cannot access '/root/.kaggle/kaggle.json': No such file or directory\n"
          ]
        }
      ]
    },
    {
      "cell_type": "code",
      "source": [
        "!kaggle datasets download -d ilhamfp31/indonesian-abusive-and-hate-speech-twitter-text"
      ],
      "metadata": {
        "colab": {
          "base_uri": "https://localhost:8080/"
        },
        "id": "VRlvOrPzfJWd",
        "outputId": "0a0d54c1-849d-4d4d-d819-3da683849357"
      },
      "execution_count": null,
      "outputs": [
        {
          "output_type": "stream",
          "name": "stdout",
          "text": [
            "Dataset URL: https://www.kaggle.com/datasets/ilhamfp31/indonesian-abusive-and-hate-speech-twitter-text\n",
            "License(s): CC-BY-NC-SA-4.0\n",
            "Downloading indonesian-abusive-and-hate-speech-twitter-text.zip to /content\n",
            "  0% 0.00/814k [00:00<?, ?B/s]\n",
            "100% 814k/814k [00:00<00:00, 116MB/s]\n"
          ]
        }
      ]
    },
    {
      "cell_type": "code",
      "source": [
        "!kaggle datasets download -d oswinrh/indonesian-stoplist"
      ],
      "metadata": {
        "colab": {
          "base_uri": "https://localhost:8080/"
        },
        "id": "RBG8lC-ngfbp",
        "outputId": "57232d26-1ddc-4b48-be4b-64f83da4ee3a"
      },
      "execution_count": null,
      "outputs": [
        {
          "output_type": "stream",
          "name": "stdout",
          "text": [
            "Dataset URL: https://www.kaggle.com/datasets/oswinrh/indonesian-stoplist\n",
            "License(s): unknown\n",
            "Downloading indonesian-stoplist.zip to /content\n",
            "  0% 0.00/2.27k [00:00<?, ?B/s]\n",
            "100% 2.27k/2.27k [00:00<00:00, 2.96MB/s]\n"
          ]
        }
      ]
    },
    {
      "cell_type": "code",
      "source": [
        "import zipfile\n",
        "\n",
        "with zipfile.ZipFile('/content/indonesian-abusive-and-hate-speech-twitter-text.zip', 'r') as zip_ref:\n",
        "    zip_ref.extractall('/content/')\n",
        "\n",
        "with zipfile.ZipFile('/content/indonesian-stoplist.zip', 'r') as zip_ref:\n",
        "    zip_ref.extractall('/content/')"
      ],
      "metadata": {
        "id": "qnNNYF4Of2Tn"
      },
      "execution_count": null,
      "outputs": []
    },
    {
      "cell_type": "code",
      "source": [
        "slang_dict = pd.read_csv('../content/new_kamusalay.csv', encoding='latin-1', header=None)\n",
        "slang_dict = slang_dict.rename(columns={0: 'original',\n",
        "                                      1: 'replacement'})"
      ],
      "metadata": {
        "id": "w0fqrEOxgwIi"
      },
      "execution_count": null,
      "outputs": []
    },
    {
      "cell_type": "code",
      "source": [
        "id_stopword_dict = pd.read_csv('../content/stopwordbahasa.csv', header=None)\n",
        "id_stopword_dict = id_stopword_dict.rename(columns={0: 'stopword'})\n",
        "stopwords_new = pd.DataFrame(['sih','nya', 'iya', 'nih', 'biar', 'tau', 'kayak', 'banget'], columns=['stopword'])\n",
        "id_stopword_dict = pd.concat([id_stopword_dict,stopwords_new]).reset_index()\n",
        "id_stopword_dict = pd.DataFrame(id_stopword_dict['stopword'])"
      ],
      "metadata": {
        "id": "sDyLEcW0hZAl"
      },
      "execution_count": null,
      "outputs": []
    },
    {
      "cell_type": "code",
      "source": [
        "def normalize_slang(text):\n",
        "    slang_dict_map = dict(zip(slang_dict['original'], slang_dict['replacement']))\n",
        "    return ' '.join([slang_dict_map[word] if word in slang_dict_map else word for word in text.split(' ')])"
      ],
      "metadata": {
        "id": "H03Y4UZVhzyH"
      },
      "execution_count": null,
      "outputs": []
    },
    {
      "cell_type": "code",
      "source": [
        "import re"
      ],
      "metadata": {
        "id": "cspH96Wdiuea"
      },
      "execution_count": null,
      "outputs": []
    },
    {
      "cell_type": "code",
      "source": [
        "def remove_stopword(text):\n",
        "    text = ' '.join(['' if word in id_stopword_dict.stopword.values else word for word in text.split(' ')])\n",
        "    text = re.sub('  +', ' ', text) # Remove extra spaces\n",
        "    text = text.strip()\n",
        "    return text"
      ],
      "metadata": {
        "id": "4ej3uJz5imSE"
      },
      "execution_count": null,
      "outputs": []
    },
    {
      "cell_type": "code",
      "source": [
        "# Define the preprocessing function\n",
        "def preprocess_feature(tweet):\n",
        "    # Lowercase\n",
        "    tweet = tweet.lower()\n",
        "\n",
        "    # # Remove URLs\n",
        "    # tweet = re.sub(r'\\[URL\\]', '', tweet, flags=re.MULTILINE)\n",
        "\n",
        "    # Menghapus token [USERNAME]\n",
        "    tweet = re.sub(r'username', '', tweet)\n",
        "\n",
        "    # Menambahkan spasi setelah tanda baca jika tidak ada\n",
        "    tweet = re.sub(r'([.,!?])([^ \\n])', r'\\1 \\2', tweet)\n",
        "\n",
        "    # Remove punctuations\n",
        "    tweet = re.sub(r'[^a-zA-Z\\s]', '', tweet)\n",
        "\n",
        "    tweet = normalize_slang(tweet)\n",
        "\n",
        "    tweet = remove_stopword(tweet)\n",
        "\n",
        "    # Mengganti spasi ganda atau lebih dengan satu spasi\n",
        "    tweet = re.sub(r'\\s+', ' ', tweet)\n",
        "\n",
        "    # Menghapus spasi di awal dan akhir teks\n",
        "    tweet = tweet.strip()\n",
        "\n",
        "    return (tweet)"
      ],
      "metadata": {
        "id": "jbzg7M4w86RP"
      },
      "execution_count": null,
      "outputs": []
    },
    {
      "cell_type": "code",
      "source": [
        "# Define the preprocessing function\n",
        "def preprocess_label(label):\n",
        "    # Lowercase\n",
        "    label = label.lower()\n",
        "\n",
        "    label_mapping = {'anger': 0, 'fear': 1, 'happy': 2, 'love': 3, 'sadness': 4}\n",
        "\n",
        "    # Check if the label exists in the mapping, otherwise keep it unchanged\n",
        "    return label_mapping.get(label, label)"
      ],
      "metadata": {
        "id": "AYRxVqP4PbU7"
      },
      "execution_count": null,
      "outputs": []
    },
    {
      "cell_type": "code",
      "source": [
        "def df_to_dataset(dataframe, shuffle=True, batch_size=32):\n",
        "    dataframe = dataframe.copy()\n",
        "\n",
        "    # Use Pandas dataframe's pop method to get the list of targets.\n",
        "    labels = dataframe.pop('label') # YOUR CODE HERE\n",
        "\n",
        "    for column in dataframe:\n",
        "      dataframe[column] = dataframe[column].map(preprocess_feature)\n",
        "\n",
        "    labels =  labels.map(preprocess_label)\n",
        "\n",
        "    # Create a tf.data.Dataset from the dataframe and labels.\n",
        "    ds = tf.data.Dataset.from_tensor_slices((dict(dataframe), labels)) # YOUR CODE HERE\n",
        "\n",
        "    if shuffle:\n",
        "        # Shuffle dataset.\n",
        "        ds = ds.shuffle(buffer_size=len(dataframe)) # YOUR CODE HERE\n",
        "\n",
        "    # Batch dataset with specified batch_size parameter.\n",
        "    ds = ds.batch(batch_size) # YOUR CODE HERE\n",
        "\n",
        "    return ds"
      ],
      "metadata": {
        "id": "xBA7J4HIvdRW"
      },
      "execution_count": null,
      "outputs": []
    },
    {
      "cell_type": "code",
      "source": [
        "tweet_df = train_df['tweet'].apply(preprocess_feature)"
      ],
      "metadata": {
        "id": "XqXgYi-b5oBj"
      },
      "execution_count": null,
      "outputs": []
    },
    {
      "cell_type": "code",
      "source": [
        "train_tweet = list(train_df['tweet'].apply(preprocess_feature))\n",
        "train_label = list(train_df['label'].apply(preprocess_label))\n",
        "\n",
        "val_tweet = list(val_df['tweet'].apply(preprocess_feature))\n",
        "val_label = list(val_df['label'].apply(preprocess_label))\n",
        "\n",
        "test_tweet = list(test_df['tweet'].apply(preprocess_feature))\n",
        "test_label = list(test_df['label'].apply(preprocess_label))"
      ],
      "metadata": {
        "id": "ByleRQhtZbwJ"
      },
      "execution_count": null,
      "outputs": []
    },
    {
      "cell_type": "code",
      "source": [
        "import random"
      ],
      "metadata": {
        "id": "Hi8bmvUizmU2"
      },
      "execution_count": null,
      "outputs": []
    },
    {
      "cell_type": "code",
      "source": [
        "# train_tweet_and_label = list(zip(train_tweet, train_label))\n",
        "\n",
        "# random.seed(42)\n",
        "# train_tweet_and_label = random.sample(train_tweet_and_label, len(train_tweet_and_label))\n",
        "\n",
        "# # Unpack back into separate lists\n",
        "# train_tweet, train_label = zip(*train_tweet_and_label)"
      ],
      "metadata": {
        "id": "4Vo550vOy7Ls"
      },
      "execution_count": null,
      "outputs": []
    },
    {
      "cell_type": "code",
      "source": [
        "print(len(train_tweet))\n",
        "print(len(train_label))\n",
        "print(len(val_tweet))\n",
        "print(len(val_label))\n",
        "print(len(test_tweet))\n",
        "print(len(test_label))"
      ],
      "metadata": {
        "colab": {
          "base_uri": "https://localhost:8080/"
        },
        "id": "vc7FUomHyuJ5",
        "outputId": "7be4150c-2848-4beb-cd80-5eca4c65d178"
      },
      "execution_count": null,
      "outputs": [
        {
          "output_type": "stream",
          "name": "stdout",
          "text": [
            "3521\n",
            "3521\n",
            "440\n",
            "440\n",
            "440\n",
            "440\n"
          ]
        }
      ]
    },
    {
      "cell_type": "code",
      "source": [
        "train_df['tweet'][1]"
      ],
      "metadata": {
        "colab": {
          "base_uri": "https://localhost:8080/",
          "height": 70
        },
        "id": "4odzTZDKbz1i",
        "outputId": "79c49383-8036-4017-efd2-ec364af41e40"
      },
      "execution_count": null,
      "outputs": [
        {
          "output_type": "execute_result",
          "data": {
            "text/plain": [
              "'[USERNAME] [USERNAME] Dari pertama [USERNAME] menduduki bangku jabatan anda, rakyat belum pernah mendengar dan melihat hasil kerja dan prestasi nyata yang anda berikan semasa menduduki bangku jabatan.Coba tanya Kenapa [USERNAME] ? Abdi rakyat butuh seoran'"
            ],
            "application/vnd.google.colaboratory.intrinsic+json": {
              "type": "string"
            }
          },
          "metadata": {},
          "execution_count": 28
        }
      ]
    },
    {
      "cell_type": "code",
      "source": [
        "train_tweet[:2]"
      ],
      "metadata": {
        "colab": {
          "base_uri": "https://localhost:8080/"
        },
        "id": "ILpHKs8T_dDQ",
        "outputId": "fcc60bd0-f3d7-43c7-9d3d-1b35f0bfcc8d"
      },
      "execution_count": null,
      "outputs": [
        {
          "output_type": "execute_result",
          "data": {
            "text/plain": [
              "['membahagiakan biasku foto elf returnofthelittleprince happyheechulday',\n",
              " 'menduduki bangku jabatan rakyat mendengar hasil kerja prestasi nyata menduduki bangku jabatan coba abdi rakyat butuh seoran']"
            ]
          },
          "metadata": {},
          "execution_count": 29
        }
      ]
    },
    {
      "cell_type": "code",
      "source": [
        "train_df['label'][:2]"
      ],
      "metadata": {
        "colab": {
          "base_uri": "https://localhost:8080/"
        },
        "id": "5scbIGQlb2wB",
        "outputId": "40a85b16-c874-4895-82df-192aa1f4ab44"
      },
      "execution_count": null,
      "outputs": [
        {
          "output_type": "execute_result",
          "data": {
            "text/plain": [
              "0    happy\n",
              "1    anger\n",
              "Name: label, dtype: object"
            ]
          },
          "metadata": {},
          "execution_count": 30
        }
      ]
    },
    {
      "cell_type": "code",
      "source": [
        "train_label[:2]"
      ],
      "metadata": {
        "colab": {
          "base_uri": "https://localhost:8080/"
        },
        "id": "WzIF4r2QB25b",
        "outputId": "681897e4-8456-475e-b50c-44a6e789151b"
      },
      "execution_count": null,
      "outputs": [
        {
          "output_type": "execute_result",
          "data": {
            "text/plain": [
              "[2, 0]"
            ]
          },
          "metadata": {},
          "execution_count": 31
        }
      ]
    },
    {
      "cell_type": "code",
      "source": [
        "# batch_size = 16 # A small batch sized is used for demonstration purposes\n",
        "# train_ds = df_to_dataset(train_df, batch_size=batch_size)\n",
        "# val_ds = df_to_dataset(val_df, shuffle=False, batch_size=batch_size)\n",
        "# test_ds = df_to_dataset(test_df, shuffle=False, batch_size=batch_size)"
      ],
      "metadata": {
        "id": "vRpG2fasvqTZ"
      },
      "execution_count": null,
      "outputs": []
    },
    {
      "cell_type": "code",
      "source": [
        "# for feature_batch, label_batch in train_ds.take(1):\n",
        "#     print('Every feature:', list(feature_batch.keys()))\n",
        "#     print('A batch of tweet:', feature_batch['tweet'])\n",
        "#     print('A batch of label', label_batch )"
      ],
      "metadata": {
        "id": "nDouXVq-95V5"
      },
      "execution_count": null,
      "outputs": []
    },
    {
      "cell_type": "code",
      "source": [
        "max_length = 120\n",
        "trunc_type='post'\n",
        "pad_type='post'\n",
        "oov_tok = \"<OOV>\""
      ],
      "metadata": {
        "id": "kmoysgodnB4Z"
      },
      "execution_count": null,
      "outputs": []
    },
    {
      "cell_type": "code",
      "source": [
        "from tensorflow.keras.preprocessing.text import Tokenizer\n",
        "from tensorflow.keras.preprocessing.sequence import pad_sequences"
      ],
      "metadata": {
        "id": "hDvpuW5QncQR"
      },
      "execution_count": null,
      "outputs": []
    },
    {
      "cell_type": "code",
      "source": [
        "# Initialize the Tokenizer class\n",
        "tokenizer = Tokenizer(oov_token=oov_tok)\n",
        "\n",
        "# Generate the word index dictionary for the training sentences\n",
        "tokenizer.fit_on_texts(train_tweet)\n",
        "word_index = tokenizer.word_index\n",
        "vocab_size = len(word_index)\n",
        "\n",
        "# Generate and pad the training sequences\n",
        "train_sequences = tokenizer.texts_to_sequences(train_tweet)\n",
        "train_padded = pad_sequences(train_sequences,maxlen=max_length, truncating=trunc_type, padding=pad_type)\n",
        "\n",
        "# Generate and pad the validation sequences\n",
        "val_sequences = tokenizer.texts_to_sequences(val_tweet)\n",
        "val_padded = pad_sequences(val_sequences,maxlen=max_length, truncating=trunc_type, padding=pad_type)"
      ],
      "metadata": {
        "id": "nUEBkHNKndiW"
      },
      "execution_count": null,
      "outputs": []
    },
    {
      "cell_type": "code",
      "source": [
        "print(len(word_index))\n",
        "print(\"<OOV> token included in vocabulary\" if \"<OOV>\" in word_index else \"<OOV> token NOT included in vocabulary\")"
      ],
      "metadata": {
        "id": "pjbnNpjEogHv",
        "colab": {
          "base_uri": "https://localhost:8080/"
        },
        "outputId": "df5560ac-dcc7-40b0-dd6d-32b4ec498cab"
      },
      "execution_count": null,
      "outputs": [
        {
          "output_type": "stream",
          "name": "stdout",
          "text": [
            "14105\n",
            "<OOV> token included in vocabulary\n"
          ]
        }
      ]
    },
    {
      "cell_type": "code",
      "source": [
        "print(f\"Padded and truncated training sequences have shape: {train_padded.shape}\")\n",
        "print(f\"Padded and truncated validation sequences have shape: {val_padded.shape}\")"
      ],
      "metadata": {
        "colab": {
          "base_uri": "https://localhost:8080/"
        },
        "id": "yq7Z3i7TbVn_",
        "outputId": "8f95cdfd-1f79-4c48-fbc5-5efc53914ca9"
      },
      "execution_count": null,
      "outputs": [
        {
          "output_type": "stream",
          "name": "stdout",
          "text": [
            "Padded and truncated training sequences have shape: (3521, 120)\n",
            "Padded and truncated validation sequences have shape: (440, 120)\n"
          ]
        }
      ]
    },
    {
      "cell_type": "code",
      "source": [
        "import numpy as np"
      ],
      "metadata": {
        "id": "2ZBXg83_1rLO"
      },
      "execution_count": null,
      "outputs": []
    },
    {
      "cell_type": "code",
      "source": [
        "train_label = np.array(train_label)\n",
        "val_label = np.array(val_label)"
      ],
      "metadata": {
        "id": "rY2mfWhmbb1j"
      },
      "execution_count": null,
      "outputs": []
    },
    {
      "cell_type": "code",
      "source": [
        "# # set our text file's location path\n",
        "# fasttext_path = r'/content/twitt_indo_fasttext.txt'\n",
        "\n",
        "# # convert the train_tweet dataframe to text file\n",
        "# train_tweet.to_csv(fasttext_path, header=None, index=False)"
      ],
      "metadata": {
        "id": "3uYgM1tj17o2"
      },
      "execution_count": null,
      "outputs": []
    },
    {
      "cell_type": "code",
      "source": [
        "!# Step 1: Download the Indonesian FastText Vectors\n",
        "!wget https://dl.fbaipublicfiles.com/fasttext/vectors-crawl/cc.id.300.vec.gz\n",
        "\n",
        "# Step 2: Unzip the file\n",
        "!gunzip cc.id.300.vec.gz\n",
        "\n",
        "# Step 3: Install the fasttext library\n",
        "!pip install fasttext"
      ],
      "metadata": {
        "id": "vaCRrl8f4xn6",
        "colab": {
          "base_uri": "https://localhost:8080/"
        },
        "outputId": "328d7b22-530f-40ff-aa1a-e8c206b3cfe7"
      },
      "execution_count": null,
      "outputs": [
        {
          "output_type": "stream",
          "name": "stdout",
          "text": [
            "--2024-06-01 11:11:25--  https://dl.fbaipublicfiles.com/fasttext/vectors-crawl/cc.id.300.vec.gz\n",
            "Resolving dl.fbaipublicfiles.com (dl.fbaipublicfiles.com)... 3.163.189.108, 3.163.189.14, 3.163.189.51, ...\n",
            "Connecting to dl.fbaipublicfiles.com (dl.fbaipublicfiles.com)|3.163.189.108|:443... connected.\n",
            "HTTP request sent, awaiting response... 200 OK\n",
            "Length: 1227018698 (1.1G) [binary/octet-stream]\n",
            "Saving to: ‘cc.id.300.vec.gz’\n",
            "\n",
            "cc.id.300.vec.gz    100%[===================>]   1.14G   233MB/s    in 5.1s    \n",
            "\n",
            "2024-06-01 11:11:30 (231 MB/s) - ‘cc.id.300.vec.gz’ saved [1227018698/1227018698]\n",
            "\n",
            "Collecting fasttext\n",
            "  Downloading fasttext-0.9.2.tar.gz (68 kB)\n",
            "\u001b[2K     \u001b[90m━━━━━━━━━━━━━━━━━━━━━━━━━━━━━━━━━━━━━━━━\u001b[0m \u001b[32m68.8/68.8 kB\u001b[0m \u001b[31m2.1 MB/s\u001b[0m eta \u001b[36m0:00:00\u001b[0m\n",
            "\u001b[?25h  Preparing metadata (setup.py) ... \u001b[?25l\u001b[?25hdone\n",
            "Collecting pybind11>=2.2 (from fasttext)\n",
            "  Using cached pybind11-2.12.0-py3-none-any.whl (234 kB)\n",
            "Requirement already satisfied: setuptools>=0.7.0 in /usr/local/lib/python3.10/dist-packages (from fasttext) (67.7.2)\n",
            "Requirement already satisfied: numpy in /usr/local/lib/python3.10/dist-packages (from fasttext) (1.25.2)\n",
            "Building wheels for collected packages: fasttext\n",
            "  Building wheel for fasttext (setup.py) ... \u001b[?25l\u001b[?25hdone\n",
            "  Created wheel for fasttext: filename=fasttext-0.9.2-cp310-cp310-linux_x86_64.whl size=4227139 sha256=6f82f66446dc46fef606fe077b2e1e2b3f7918049789bf1090e7594cc30d3088\n",
            "  Stored in directory: /root/.cache/pip/wheels/a5/13/75/f811c84a8ab36eedbaef977a6a58a98990e8e0f1967f98f394\n",
            "Successfully built fasttext\n",
            "Installing collected packages: pybind11, fasttext\n",
            "Successfully installed fasttext-0.9.2 pybind11-2.12.0\n"
          ]
        }
      ]
    },
    {
      "cell_type": "code",
      "source": [
        "# Step 4: Load and use the vectors\n",
        "import fasttext\n",
        "\n",
        "# Step 4: Load the FastText vectors from the .vec file\n",
        "embedding_index = {}\n",
        "with open('cc.id.300.vec', 'r', encoding='utf-8') as f:\n",
        "    # Skip the first line if it contains the number of vectors and dimensions\n",
        "    next(f)\n",
        "    for line in f:\n",
        "        values = line.rstrip().split(' ')\n",
        "        word = values[0]\n",
        "        vector = np.asarray(values[1:], dtype='float32')\n",
        "        embedding_index[word] = vector"
      ],
      "metadata": {
        "id": "uRlS-QZM4v_z"
      },
      "execution_count": null,
      "outputs": []
    },
    {
      "cell_type": "code",
      "source": [
        "test_word = 'membahagiakan'\n",
        "\n",
        "test_vector = embedding_index[test_word]\n",
        "\n",
        "print(f\"Vector representation of word {test_word} looks like this:\\n\\n{test_vector}\")"
      ],
      "metadata": {
        "colab": {
          "base_uri": "https://localhost:8080/"
        },
        "id": "1bv7EchO5iub",
        "outputId": "fd01189c-ecc6-4b75-e3e7-d767f48d840b"
      },
      "execution_count": null,
      "outputs": [
        {
          "output_type": "stream",
          "name": "stdout",
          "text": [
            "Vector representation of word membahagiakan looks like this:\n",
            "\n",
            "[-7.30e-03 -5.28e-02  7.10e-03  3.02e-02 -5.44e-02 -3.73e-02 -2.69e-02\n",
            " -3.22e-02 -1.29e-02 -4.03e-02  1.62e-02  2.15e-02 -6.20e-03  2.04e-02\n",
            " -1.00e-04 -1.33e-02 -1.21e-02 -3.00e-03  1.52e-02  2.65e-02  1.70e-03\n",
            "  1.32e-02 -7.80e-03  2.70e-02 -2.45e-02 -6.00e-03 -1.46e-02  2.60e-03\n",
            "  2.29e-02 -4.33e-02 -1.97e-02 -7.10e-03  5.00e-02 -2.65e-02 -5.00e-03\n",
            "  2.79e-02 -1.42e-02  1.19e-02  1.09e-02  1.48e-02  2.35e-02 -7.00e-04\n",
            " -5.50e-03  3.23e-02  9.80e-03  2.62e-02  2.28e-02  4.00e-03 -2.61e-02\n",
            "  1.14e-02  6.00e-04 -1.85e-02 -2.00e-03  1.90e-03 -1.14e-02  1.19e-02\n",
            "  5.07e-02 -3.30e-03 -2.40e-03  6.00e-03 -1.38e-02  2.72e-02  2.03e-02\n",
            "  1.35e-02 -2.11e-02  1.24e-02  1.88e-02  1.61e-02 -2.00e-03 -1.33e-02\n",
            "  1.08e-02  4.72e-02  5.50e-03 -1.90e-03 -1.73e-02 -2.83e-02 -2.80e-03\n",
            "  1.81e-02 -5.80e-03 -1.32e-02  2.43e-02 -1.14e-02 -2.28e-02  2.40e-02\n",
            " -9.30e-03  2.60e-03 -2.84e-02  7.00e-03  2.75e-02 -2.92e-02  8.40e-03\n",
            "  1.25e-02  2.90e-03  8.70e-03 -5.98e-02 -4.69e-02  1.05e-02 -1.43e-02\n",
            " -4.10e-03  8.10e-03 -1.75e-02  1.01e-02 -2.20e-03 -3.06e-02 -1.37e-02\n",
            " -3.19e-02  5.20e-03  1.22e-02  9.30e-03  8.50e-03 -8.40e-03 -4.92e-02\n",
            " -6.60e-03 -1.44e-02  6.80e-03 -1.84e-02  3.20e-03  2.30e-03 -1.17e-02\n",
            "  1.45e-02 -4.62e-02 -1.43e-02 -1.30e-03 -1.60e-03  3.87e-02  6.10e-03\n",
            " -2.16e-02  7.20e-03 -8.70e-03  7.00e-03  2.20e-02 -4.40e-03 -4.40e-03\n",
            "  4.90e-03  5.60e-03  1.11e-02  4.40e-03  2.49e-02  1.40e-03  1.15e-02\n",
            " -7.40e-03 -5.50e-02  3.61e-02  8.60e-03 -8.50e-03  3.36e-02 -8.20e-03\n",
            " -3.28e-02  5.40e-03 -2.92e-02 -6.60e-03  2.61e-02 -4.68e-02 -1.22e-02\n",
            "  2.53e-02  1.28e-02  7.10e-03 -1.66e-02 -3.16e-02 -2.18e-02  1.80e-02\n",
            "  2.76e-02 -4.40e-02  3.60e-03  1.55e-02  1.27e-02  2.70e-02  2.50e-03\n",
            "  4.63e-02 -3.05e-02 -4.80e-03 -9.80e-03  2.40e-03 -7.40e-03  1.28e-02\n",
            " -9.20e-03 -2.10e-02 -4.10e-03  7.10e-03  1.70e-03  7.19e-02  9.40e-03\n",
            " -3.25e-02  7.80e-03  9.60e-03  2.11e-02  2.45e-02  7.90e-03 -2.10e-02\n",
            " -1.37e-02  2.70e-03 -2.04e-02  8.40e-03 -5.50e-03 -6.20e-03  8.60e-03\n",
            " -7.70e-03 -1.94e-02  1.33e-02  4.71e-02  4.90e-03 -1.39e-02 -1.28e-02\n",
            "  3.08e-02  2.80e-03  1.86e-02  1.21e-02  5.70e-03 -3.58e-02  7.70e-03\n",
            " -1.82e-02  2.55e-02  4.00e-04 -2.16e-02  1.16e-02  1.62e-02 -5.20e-03\n",
            "  1.91e-02 -1.38e-02 -3.44e-02  2.00e-04  1.97e-02 -1.97e-02  2.35e-02\n",
            "  5.00e-03  1.14e-02 -4.89e-02  1.78e-02  5.80e-03 -1.50e-02  6.00e-04\n",
            "  2.27e-02 -1.48e-02  8.60e-03 -2.87e-02 -8.70e-03  2.10e-02  8.90e-03\n",
            "  9.60e-03  3.12e-02  1.23e-02 -2.58e-02  1.72e-02 -5.48e-02  1.80e-03\n",
            " -1.25e-02 -1.97e-02  2.11e-02  4.00e-03 -4.92e-02 -4.60e-03  8.10e-03\n",
            "  3.64e-02  1.10e-03  5.10e-03 -7.20e-03 -3.61e-02  6.00e-04  1.00e-02\n",
            " -1.59e-02  7.80e-03  1.58e-02  3.70e-03 -5.70e-03 -6.80e-03  7.20e-03\n",
            " -5.00e-04  2.25e-02  7.00e-03  4.00e-04  1.39e-02  1.06e-02 -1.14e-02\n",
            " -1.28e-02 -2.14e-02 -1.80e-03 -3.29e-02  1.91e-02 -5.60e-03  1.46e-02\n",
            " -3.73e-02  1.79e-02  7.00e-04 -3.30e-03  1.84e-02  2.60e-03  4.50e-03\n",
            "  1.27e-02  3.36e-02 -3.92e-02  6.10e-03  3.90e-03 -8.00e-03 -1.26e-02\n",
            " -2.39e-02  5.65e-02  8.10e-03 -3.10e-02 -2.77e-02  4.87e-02]\n"
          ]
        }
      ]
    },
    {
      "cell_type": "code",
      "source": [
        "print(f\"Each word vector has shape: {test_vector.shape}\")"
      ],
      "metadata": {
        "colab": {
          "base_uri": "https://localhost:8080/"
        },
        "id": "LTNdpgxh5pQm",
        "outputId": "52ca8b4f-ea0d-4584-ea17-9593ce0c90ce"
      },
      "execution_count": null,
      "outputs": [
        {
          "output_type": "stream",
          "name": "stdout",
          "text": [
            "Each word vector has shape: (300,)\n"
          ]
        }
      ]
    },
    {
      "cell_type": "code",
      "source": [
        "# Define embedding dimensions (usually 300 for FastText vectors)\n",
        "embedding_dim = 300\n",
        "\n",
        "# Step 3: Initialize an empty numpy array with the appropriate size\n",
        "EMBEDDINGS_MATRIX = np.zeros((len(word_index) + 1, embedding_dim))\n",
        "\n",
        "# Step 5: Populate the EMBEDDINGS_MATRIX\n",
        "for word, i in word_index.items():\n",
        "    embedding_vector = embedding_index.get(word)\n",
        "    if embedding_vector is not None:\n",
        "        EMBEDDINGS_MATRIX[i] = embedding_vector"
      ],
      "metadata": {
        "id": "ulPgDXlx5vZs"
      },
      "execution_count": null,
      "outputs": []
    },
    {
      "cell_type": "code",
      "source": [
        "print(\"Embeddings matrix shape:\", EMBEDDINGS_MATRIX.shape)"
      ],
      "metadata": {
        "colab": {
          "base_uri": "https://localhost:8080/"
        },
        "id": "sDyutelC6KY_",
        "outputId": "2931de5a-7140-4290-c3dc-5bb646420c3c"
      },
      "execution_count": null,
      "outputs": [
        {
          "output_type": "stream",
          "name": "stdout",
          "text": [
            "Embeddings matrix shape: (14106, 300)\n"
          ]
        }
      ]
    },
    {
      "cell_type": "code",
      "source": [
        "# Build the model\n",
        "model = tf.keras.Sequential([\n",
        "        tf.keras.layers.Embedding(vocab_size+1, embedding_dim, input_length=max_length, weights=[EMBEDDINGS_MATRIX], trainable=False),\n",
        "        tf.keras.layers.Dropout(0.3),\n",
        "        # tf.keras.layers.Conv1D(128, 5, activation='relu'),\n",
        "        tf.keras.layers.Bidirectional(tf.keras.layers.LSTM(64, return_sequences=True)),\n",
        "        tf.keras.layers.Bidirectional(tf.keras.layers.LSTM(64)),\n",
        "        # tf.keras.layers.GlobalMaxPooling1D(),\n",
        "        tf.keras.layers.Dense(64, activation='relu'),\n",
        "        tf.keras.layers.Dropout(0.3),\n",
        "        tf.keras.layers.Dense(5, activation='softmax')\n",
        "])\n",
        "\n",
        "model.compile(loss='sparse_categorical_crossentropy',\n",
        "                  optimizer='adam',\n",
        "                  metrics=['accuracy'])\n",
        "\n",
        "# Print the model summary\n",
        "model.summary()"
      ],
      "metadata": {
        "colab": {
          "base_uri": "https://localhost:8080/"
        },
        "id": "O06aaHyvbjY8",
        "outputId": "34c5433c-821d-441f-d98b-47149ab51fec"
      },
      "execution_count": null,
      "outputs": [
        {
          "output_type": "stream",
          "name": "stdout",
          "text": [
            "Model: \"sequential\"\n",
            "_________________________________________________________________\n",
            " Layer (type)                Output Shape              Param #   \n",
            "=================================================================\n",
            " embedding (Embedding)       (None, 120, 300)          4231800   \n",
            "                                                                 \n",
            " dropout (Dropout)           (None, 120, 300)          0         \n",
            "                                                                 \n",
            " bidirectional (Bidirection  (None, 120, 128)          186880    \n",
            " al)                                                             \n",
            "                                                                 \n",
            " bidirectional_1 (Bidirecti  (None, 128)               98816     \n",
            " onal)                                                           \n",
            "                                                                 \n",
            " dense (Dense)               (None, 64)                8256      \n",
            "                                                                 \n",
            " dropout_1 (Dropout)         (None, 64)                0         \n",
            "                                                                 \n",
            " dense_1 (Dense)             (None, 5)                 325       \n",
            "                                                                 \n",
            "=================================================================\n",
            "Total params: 4526077 (17.27 MB)\n",
            "Trainable params: 294277 (1.12 MB)\n",
            "Non-trainable params: 4231800 (16.14 MB)\n",
            "_________________________________________________________________\n"
          ]
        }
      ]
    },
    {
      "cell_type": "code",
      "source": [
        "# Train the model and save the training history\n",
        "history = model.fit(train_padded, train_label, epochs=20, validation_data=(val_padded, val_label))"
      ],
      "metadata": {
        "colab": {
          "base_uri": "https://localhost:8080/"
        },
        "id": "YUYcYAiP9n3i",
        "outputId": "243e1ba9-da64-40d9-bb6e-5c105bef0582"
      },
      "execution_count": null,
      "outputs": [
        {
          "output_type": "stream",
          "name": "stdout",
          "text": [
            "Epoch 1/20\n",
            "111/111 [==============================] - 118s 783ms/step - loss: 1.4047 - accuracy: 0.3888 - val_loss: 1.2253 - val_accuracy: 0.4659\n",
            "Epoch 2/20\n",
            "111/111 [==============================] - 75s 674ms/step - loss: 1.1246 - accuracy: 0.5578 - val_loss: 1.0811 - val_accuracy: 0.5864\n",
            "Epoch 3/20\n",
            "111/111 [==============================] - 62s 563ms/step - loss: 1.0322 - accuracy: 0.5995 - val_loss: 1.0814 - val_accuracy: 0.5614\n",
            "Epoch 4/20\n",
            "111/111 [==============================] - 81s 728ms/step - loss: 0.9675 - accuracy: 0.6348 - val_loss: 1.0234 - val_accuracy: 0.5909\n",
            "Epoch 5/20\n",
            "111/111 [==============================] - 74s 662ms/step - loss: 0.9351 - accuracy: 0.6561 - val_loss: 1.0692 - val_accuracy: 0.5955\n",
            "Epoch 6/20\n",
            "111/111 [==============================] - 69s 624ms/step - loss: 0.9006 - accuracy: 0.6643 - val_loss: 1.0607 - val_accuracy: 0.5795\n",
            "Epoch 7/20\n",
            "111/111 [==============================] - 72s 652ms/step - loss: 0.8761 - accuracy: 0.6751 - val_loss: 1.0088 - val_accuracy: 0.6250\n",
            "Epoch 8/20\n",
            "111/111 [==============================] - 73s 652ms/step - loss: 0.8287 - accuracy: 0.6882 - val_loss: 1.0297 - val_accuracy: 0.5977\n",
            "Epoch 9/20\n",
            "111/111 [==============================] - 84s 756ms/step - loss: 0.8012 - accuracy: 0.7029 - val_loss: 1.0599 - val_accuracy: 0.6023\n",
            "Epoch 10/20\n",
            "111/111 [==============================] - 64s 581ms/step - loss: 0.8152 - accuracy: 0.6972 - val_loss: 1.0357 - val_accuracy: 0.6136\n",
            "Epoch 11/20\n",
            "111/111 [==============================] - 86s 772ms/step - loss: 0.8025 - accuracy: 0.7029 - val_loss: 0.9981 - val_accuracy: 0.6227\n",
            "Epoch 12/20\n",
            "111/111 [==============================] - 68s 608ms/step - loss: 0.7507 - accuracy: 0.7316 - val_loss: 1.0163 - val_accuracy: 0.6205\n",
            "Epoch 13/20\n",
            "111/111 [==============================] - 77s 699ms/step - loss: 0.7230 - accuracy: 0.7390 - val_loss: 1.0398 - val_accuracy: 0.6227\n",
            "Epoch 14/20\n",
            "111/111 [==============================] - 77s 677ms/step - loss: 0.7160 - accuracy: 0.7387 - val_loss: 1.0225 - val_accuracy: 0.6114\n",
            "Epoch 15/20\n",
            "111/111 [==============================] - 73s 660ms/step - loss: 0.6784 - accuracy: 0.7572 - val_loss: 1.0368 - val_accuracy: 0.6000\n",
            "Epoch 16/20\n",
            "111/111 [==============================] - 79s 709ms/step - loss: 0.6604 - accuracy: 0.7620 - val_loss: 1.0569 - val_accuracy: 0.6273\n",
            "Epoch 17/20\n",
            "111/111 [==============================] - 66s 596ms/step - loss: 0.6377 - accuracy: 0.7691 - val_loss: 1.0814 - val_accuracy: 0.6295\n",
            "Epoch 18/20\n",
            "111/111 [==============================] - 79s 707ms/step - loss: 0.6246 - accuracy: 0.7785 - val_loss: 1.0567 - val_accuracy: 0.6114\n",
            "Epoch 19/20\n",
            "111/111 [==============================] - 73s 655ms/step - loss: 0.5991 - accuracy: 0.7799 - val_loss: 1.1537 - val_accuracy: 0.6455\n",
            "Epoch 20/20\n",
            "111/111 [==============================] - 60s 543ms/step - loss: 0.6521 - accuracy: 0.7714 - val_loss: 1.0721 - val_accuracy: 0.6227\n"
          ]
        }
      ]
    },
    {
      "cell_type": "code",
      "source": [
        "import matplotlib.pyplot as plt"
      ],
      "metadata": {
        "id": "nuk6fzyuDRmm"
      },
      "execution_count": null,
      "outputs": []
    },
    {
      "cell_type": "code",
      "source": [
        "#-----------------------------------------------------------\n",
        "# Retrieve a list of list results on training and test data\n",
        "# sets for each training epoch\n",
        "#-----------------------------------------------------------\n",
        "loss = history.history['loss']\n",
        "val_loss = history.history['val_loss']\n",
        "\n",
        "epochs = [*range(20)]\n",
        "\n",
        "#------------------------------------------------\n",
        "# Plot training and validation loss per epoch\n",
        "#------------------------------------------------\n",
        "plt.plot(epochs, loss, 'r')\n",
        "plt.plot(epochs, val_loss, 'b')\n",
        "plt.title('Training and validation loss')\n",
        "plt.xlabel(\"Epochs\")\n",
        "plt.ylabel(\"Loss\")\n",
        "plt.legend([\"Loss\", \"Validation Loss\"])\n",
        "plt.show()"
      ],
      "metadata": {
        "colab": {
          "base_uri": "https://localhost:8080/",
          "height": 472
        },
        "id": "QjFTPU1P9wFW",
        "outputId": "423cdb42-c7f1-4945-8d5a-64aa63457d14"
      },
      "execution_count": null,
      "outputs": [
        {
          "output_type": "display_data",
          "data": {
            "text/plain": [
              "<Figure size 640x480 with 1 Axes>"
            ],
            "image/png": "[encoded data removed]"
          },
          "metadata": {}
        }
      ]
    },
    {
      "cell_type": "code",
      "source": [
        "#-----------------------------------------------------------\n",
        "# Retrieve a list of list results on training and test data\n",
        "# sets for each training epoch\n",
        "#-----------------------------------------------------------\n",
        "acc = history.history['accuracy']\n",
        "val_acc = history.history['val_accuracy']\n",
        "\n",
        "epochs = [*range(20)]\n",
        "\n",
        "#------------------------------------------------\n",
        "# Plot training and validation loss per epoch\n",
        "#------------------------------------------------\n",
        "plt.plot(epochs, acc, 'r')\n",
        "plt.plot(epochs, val_acc, 'b')\n",
        "plt.title('Training and validation Accuracy')\n",
        "plt.xlabel(\"Epochs\")\n",
        "plt.ylabel(\"Acc\")\n",
        "plt.legend([\"Acc\", \"Validation Acc\"])\n",
        "plt.show()"
      ],
      "metadata": {
        "id": "TcCr4H2AFlJ1",
        "colab": {
          "base_uri": "https://localhost:8080/",
          "height": 472
        },
        "outputId": "b5934d0a-0fe4-4420-8f50-c171604f9869"
      },
      "execution_count": null,
      "outputs": [
        {
          "output_type": "display_data",
          "data": {
            "text/plain": [
              "<Figure size 640x480 with 1 Axes>"
            ],
            "image/png": "[encoded data removed]"
          },
          "metadata": {}
        }
      ]
    },
    {
      "cell_type": "code",
      "source": [],
      "metadata": {
        "id": "J_LwTyFdos6s"
      },
      "execution_count": null,
      "outputs": []
    }
  ]
}